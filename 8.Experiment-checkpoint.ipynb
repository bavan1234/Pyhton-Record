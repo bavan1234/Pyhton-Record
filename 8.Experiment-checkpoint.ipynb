{
 "cells": [
  {
   "cell_type": "markdown",
   "id": "9e1fa90f",
   "metadata": {},
   "source": [
    "1.Safe Division Calculator: You're building a simple calculator app. One of the most common issues is when a user tries to divide by zero. Write a program that takes two numbers from the user and performs division. Use try-except to handle ZeroDivisionError and display an appropriate message like \"Cannot divide by zero\".\n"
   ]
  },
  {
   "cell_type": "code",
   "execution_count": 1,
   "id": "34e2c242",
   "metadata": {},
   "outputs": [
    {
     "name": "stdin",
     "output_type": "stream",
     "text": [
      "Enter the first number: 2\n",
      "Enter the second number: 0\n"
     ]
    },
    {
     "name": "stdout",
     "output_type": "stream",
     "text": [
      "Divisiion by zero is not possible,Try again\n"
     ]
    },
    {
     "name": "stdin",
     "output_type": "stream",
     "text": [
      "Enter the first number: 4\n",
      "Enter the second number: 2\n"
     ]
    },
    {
     "name": "stdout",
     "output_type": "stream",
     "text": [
      "Result is  2.0\n"
     ]
    }
   ],
   "source": [
    "def div():\n",
    "  a=int(input(\"Enter the first number:\"))\n",
    "  b=int(input(\"Enter the second number:\"))\n",
    "  try:\n",
    "    res=a/b\n",
    "  except ZeroDivisionError:\n",
    "    print(\"Divisiion by zero is not possible,Try again\")\n",
    "    div()\n",
    "  else:\n",
    "    print(\"Result is \",res)\n",
    "div()"
   ]
  },
  {
   "cell_type": "markdown",
   "id": "6bfddf8b",
   "metadata": {},
   "source": [
    "2.Robust List Indexing: You’re developing a student report viewer. Users may sometimes enter an invalid index to view a student’s mark. Write a program that accesses an element from a predefined list of marks using an index provided by the user. Use exception handling to catch IndexError and print \"Invalid index entered. Please try again.\"\n"
   ]
  },
  {
   "cell_type": "code",
   "execution_count": 2,
   "id": "77f4a827",
   "metadata": {},
   "outputs": [
    {
     "name": "stdin",
     "output_type": "stream",
     "text": [
      "Enter the no of students: 5\n",
      "Enter students marks: 80\n",
      "Enter students marks: 82\n",
      "Enter students marks: 70\n",
      "Enter students marks: 90\n",
      "Enter students marks: 79\n",
      "Enter index to get student's mark: 6\n"
     ]
    },
    {
     "name": "stdout",
     "output_type": "stream",
     "text": [
      "Invaild index,Try again\n"
     ]
    },
    {
     "name": "stdin",
     "output_type": "stream",
     "text": [
      "Enter index to get student's mark: 4\n"
     ]
    },
    {
     "name": "stdout",
     "output_type": "stream",
     "text": [
      "Student's mark is 79\n"
     ]
    }
   ],
   "source": [
    "lst=[int(input(\"Enter students marks:\")) for _ in range(int(input('Enter the no of students:')))]\n",
    "def get_idx():\n",
    "  idx=int(input(\"Enter index to get student's mark:\"))\n",
    "  try:\n",
    "    mark=lst[idx]\n",
    "  except IndexError:\n",
    "    print(\"Invaild index,Try again\")\n",
    "    get_idx()\n",
    "  else:\n",
    "    print(\"Student's mark is\",mark)\n",
    "get_idx()\n"
   ]
  },
  {
   "cell_type": "markdown",
   "id": "d918b23a",
   "metadata": {},
   "source": [
    "3.Type-Safe Input for Integer Conversion: You’re building a data entry form. Sometimes users enter text when a number is expected. Write a program that takes user input and converts it to an integer. Handle ValueError using a try-except block and print \"Please enter a valid number.\" if the input is not convertible."
   ]
  },
  {
   "cell_type": "code",
   "execution_count": 3,
   "id": "391d842d",
   "metadata": {},
   "outputs": [
    {
     "name": "stdin",
     "output_type": "stream",
     "text": [
      "Enter a number: hello world\n"
     ]
    },
    {
     "name": "stdout",
     "output_type": "stream",
     "text": [
      "Please enter a vaild number\n"
     ]
    },
    {
     "name": "stdin",
     "output_type": "stream",
     "text": [
      "Enter a number: 7\n"
     ]
    },
    {
     "name": "stdout",
     "output_type": "stream",
     "text": [
      "Entered data is  7\n"
     ]
    }
   ],
   "source": [
    "def get_num():\n",
    "  try:\n",
    "    num=int(input('Enter a number:'))\n",
    "  except ValueError:\n",
    "    print(\"Please enter a vaild number\")\n",
    "    get_num()\n",
    "  else:\n",
    "    print(\"Entered data is \",num)\n",
    "get_num()"
   ]
  }
 ],
 "metadata": {
  "kernelspec": {
   "display_name": "Python 3 (ipykernel)",
   "language": "python",
   "name": "python3"
  },
  "language_info": {
   "codemirror_mode": {
    "name": "ipython",
    "version": 3
   },
   "file_extension": ".py",
   "mimetype": "text/x-python",
   "name": "python",
   "nbconvert_exporter": "python",
   "pygments_lexer": "ipython3",
   "version": "3.13.2"
  }
 },
 "nbformat": 4,
 "nbformat_minor": 5
}
