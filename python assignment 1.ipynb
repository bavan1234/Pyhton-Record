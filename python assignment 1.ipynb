{
 "cells": [
  {
   "cell_type": "markdown",
   "id": "f105d111",
   "metadata": {},
   "source": [
    "1. Write a program to calculate the area of a triangle using Heron’s formula.\n",
    "(Hint: Heron’s formula is given as: area = sqrt(S*(S–a)*(S–b)*(S–c)))"
   ]
  },
  {
   "cell_type": "code",
   "execution_count": null,
   "id": "685061ee",
   "metadata": {},
   "outputs": [
    {
     "name": "stdout",
     "output_type": "stream",
     "text": [
      "Area: 56.568542494923804\n"
     ]
    }
   ],
   "source": [
    "a = float(input(\"Enter length of side a: \"))\n",
    "b = float(input(\"Enter length of side b: \"))\n",
    "c = float(input(\"Enter length of side c: \"))\n",
    "S = (a + b + c) / 2\n",
    "area = ((S * (S - a) * (S - b) * (S - c))**0.5)\n",
    "print(\"Area:\",area)"
   ]
  },
  {
   "cell_type": "markdown",
   "id": "5b3e5d0f",
   "metadata": {},
   "source": [
    "2. Write a program to calculate the distance between two points."
   ]
  },
  {
   "cell_type": "code",
   "execution_count": null,
   "id": "b0541901",
   "metadata": {},
   "outputs": [
    {
     "name": "stdout",
     "output_type": "stream",
     "text": [
      "Distance between two points is:2.2361\n"
     ]
    }
   ],
   "source": [
    "import math\n",
    "x1=float(input(\"Enter x1:\"))\n",
    "x2=float(input(\"Enter x2:\"))\n",
    "y1=float(input(\"Enter y1:\"))\n",
    "y2=float(input(\"Enter y2:\"))\n",
    "dis=math.sqrt((x1-x2)**2 + (y1-y2)**2)\n",
    "print(\"Distance between two points is:%.4f\"%dis)"
   ]
  },
  {
   "cell_type": "markdown",
   "id": "08d7e5dd",
   "metadata": {},
   "source": [
    "3. Write a program to calculate the area of a circle, rectangle, triangle, and square."
   ]
  },
  {
   "cell_type": "code",
   "execution_count": null,
   "id": "e6e17380",
   "metadata": {},
   "outputs": [
    {
     "name": "stdout",
     "output_type": "stream",
     "text": [
      "Area of the square: 16.0\n",
      "Area of circle: 50.24\n",
      "Area of the triangle: 6.0\n",
      "Area of rectangle: 72.0\n"
     ]
    }
   ],
   "source": [
    "def square():\n",
    "    a = float(input(\"Enter the side:\"))\n",
    "    print(\"Area of the square:\",a*a)\n",
    "def circle():\n",
    "    r = float(input(\"Enter the radius:\"))\n",
    "    print(\"Area of circle:\",3.14*r*r)\n",
    "def triangle():\n",
    "    b = float(input(\"Enter the breadth:\"))\n",
    "    h = float(input(\"Enter the height:\"))\n",
    "    print(\"Area of the triangle:\",0.5*b*h)\n",
    "def rectangle():\n",
    "    l = float(input(\"Enter the length:\"))\n",
    "    br = float(input(\"Enter the breadth:\"))\n",
    "    print(\"Area of rectangle:\",l*br)\n",
    "square()\n",
    "circle()\n",
    "triangle()\n",
    "rectangle()"
   ]
  },
  {
   "cell_type": "markdown",
   "id": "a63981dd",
   "metadata": {},
   "source": [
    "4. Write a program to print the digit at one’s place of a number.\n"
   ]
  },
  {
   "cell_type": "code",
   "execution_count": null,
   "id": "92cba198",
   "metadata": {},
   "outputs": [
    {
     "name": "stdout",
     "output_type": "stream",
     "text": [
      "Digit at 1's place of the number: 6\n"
     ]
    }
   ],
   "source": [
    "num = int(input(\"Enter a number:\"))\n",
    "a = num%10\n",
    "print(\"Digit at 1's place of the number:\",a)"
   ]
  },
  {
   "cell_type": "markdown",
   "id": "d843954b",
   "metadata": {},
   "source": [
    "5. Write a program to calculate the total amount of money in the piggy bank, given the coins of ₹10, ₹5, ₹2, and ₹1.\n"
   ]
  },
  {
   "cell_type": "code",
   "execution_count": null,
   "id": "767874e3",
   "metadata": {},
   "outputs": [
    {
     "name": "stdout",
     "output_type": "stream",
     "text": [
      "The total amount is: 36\n"
     ]
    }
   ],
   "source": [
    "a=int(input(\"Enter the no of 10 coins:\"))\n",
    "b=int(input(\"Enter the no of 5 coins:\"))\n",
    "c=int(input(\"Enter the no of 2 coins:\"))\n",
    "d=int(input(\"Enter the no of 1 coins:\"))\n",
    "amt=(a*10) + (b*5) + (c*2) + (d*1)\n",
    "print(\"The total amount is:\",amt)"
   ]
  },
  {
   "cell_type": "markdown",
   "id": "8d6a130f",
   "metadata": {},
   "source": [
    "6. Write a program to calculate the bill amount for an item given its quantity sold, value, discount, and tax.\n"
   ]
  },
  {
   "cell_type": "code",
   "execution_count": null,
   "id": "985c4414",
   "metadata": {},
   "outputs": [
    {
     "name": "stdout",
     "output_type": "stream",
     "text": [
      "The final bill amount is: 39.6\n"
     ]
    }
   ],
   "source": [
    "n=int(input(\"Enter the no of items:\"))\n",
    "p=float(input(\"Enter the price:\"))\n",
    "d=int(input(\"Enter the discount:\"))\n",
    "t=int(input(\"Enter the tax:\"))\n",
    "amt = n*p\n",
    "d_amt = amt - (d/100)*amt\n",
    "tax = (t/100)*d_amt\n",
    "print(\"The final bill amount is:\",d_amt+tax)"
   ]
  },
  {
   "cell_type": "markdown",
   "id": "f6afce1a",
   "metadata": {},
   "source": [
    "7. Write a python program to calculate a household's electricity bill.\n",
    "The user should enter the number of units consumed. The charges are as follows:\n",
    "          For the first 100 units: ₹1.50 per unit\n",
    "          For the next 100 units (101–200): ₹2.00 per unit\n",
    "          For units above 200: ₹3.00 per unit\n",
    "A fixed meter charge of ₹50 is added to the bill.\n",
    "Display the total amount to be paid with a proper bill format.\n"
   ]
  },
  {
   "cell_type": "code",
   "execution_count": null,
   "id": "21d5b484",
   "metadata": {},
   "outputs": [
    {
     "name": "stdout",
     "output_type": "stream",
     "text": [
      "The final bill is: 800.0\n"
     ]
    }
   ],
   "source": [
    "n=float(input(\"Enter the no of units consumed:\"))\n",
    "if(n<100):\n",
    "    p=n*1.50\n",
    "elif(n>100 and n<200):\n",
    "    p=n*2.00\n",
    "else:\n",
    "    p=n*3.00\n",
    "f_bill=p+50\n",
    "print(\"The final bill is:\",f_bill)"
   ]
  },
  {
   "cell_type": "markdown",
   "id": "82d04845",
   "metadata": {},
   "source": [
    "8. Develop a Python program that calculates an employee’s net salary. Accept input for : \n",
    "Employee name and ID ; \n",
    "Number of hours worked ; \n",
    "Hourly wage ; \n",
    "Calculate the gross salary and deduct 10% as tax. Display a proper salary slip with all details.\n"
   ]
  },
  {
   "cell_type": "code",
   "execution_count": null,
   "id": "acb00162",
   "metadata": {},
   "outputs": [
    {
     "name": "stdout",
     "output_type": "stream",
     "text": [
      "Employee details\n",
      "--------------------------------------------\n",
      "Employee Name          : Ramesh\n",
      "Employee ID            : 1054\n",
      "Number of hours worked : 10\n",
      "Hourly Wage            : 500\n",
      "---------------------------------------------\n",
      "The gross salary       : 4500.0\n",
      "---------------------------------------------\n"
     ]
    }
   ],
   "source": [
    "ename=input(\"Enter Employee Name:\")\n",
    "eid=int(input(\"Enter Employee ID:\"))\n",
    "work=int(input(\"Enter the no of hours worked:\"))\n",
    "sal_hr=int(input(\"Enter the Hourly wage:\"))\n",
    "salary=work*sal_hr\n",
    "gross_sal=salary - (0.1*salary)\n",
    "print(\"Employee details\")\n",
    "print(\"--------------------------------------------\")\n",
    "print(\"Employee Name          :\",ename)\n",
    "print(\"Employee ID            :\",eid)\n",
    "print(\"Number of hours worked :\",work)\n",
    "print(\"Hourly Wage            :\",sal_hr)\n",
    "print(\"---------------------------------------------\")\n",
    "print(\"The gross salary       :\",gross_sal)\n",
    "print(\"---------------------------------------------\")"
   ]
  },
  {
   "cell_type": "markdown",
   "id": "1f1d162b",
   "metadata": {},
   "source": [
    "9. Write a Python program to calculate the total cost of movie tickets. Accept : \n",
    "Number of tickets ; \n",
    "Ticket category (Silver: ₹120, Gold: ₹180, Platinum: ₹250) ; \n",
    "Add 18% GST to the ticket cost. Display a formatted bill.\n"
   ]
  },
  {
   "cell_type": "code",
   "execution_count": null,
   "id": "47f538a7",
   "metadata": {},
   "outputs": [
    {
     "name": "stdout",
     "output_type": "stream",
     "text": [
      "Bill details...\n",
      "-----------------------------------------------------\n",
      "Number of Tickets           : 10\n",
      "Enter the Ticket catogory   : platinum\n",
      "------------------------------------------------------\n",
      "The final bill amount       : 2950.0\n",
      "------------------------------------------------------\n"
     ]
    }
   ],
   "source": [
    "num=int(input(\"Enter the no of tickets:\"))\n",
    "cat=input(\"Enter the Ticket catagory:\")\n",
    "if(cat.lower()==\"silver\"):\n",
    "    bill= num*120\n",
    "elif(cat.lower()==\"gold\"):\n",
    "    bill= num*180\n",
    "elif(cat.lower()==\"platinum\"):\n",
    "    bill= num*250\n",
    "else:\n",
    "    print(\"Please Enter a valid Ticket catagory\")\n",
    "final_bill=bill + 0.18*bill\n",
    "print(\"Bill details...\")\n",
    "print(\"-----------------------------------------------------\")\n",
    "print(\"Number of Tickets           :\",num)\n",
    "print(\"Enter the Ticket catogory   :\",cat)\n",
    "print(\"------------------------------------------------------\")\n",
    "print(\"The final bill amount       :\",final_bill)\n",
    "print(\"------------------------------------------------------\")"
   ]
  },
  {
   "cell_type": "markdown",
   "id": "d48967a5",
   "metadata": {},
   "source": [
    "10. Develop a Python program that estimates travel fare based on distance and transport mode. \n",
    "Input : \n",
    "Distance (in km) ; \n",
    "Mode (Bus: ₹5/km, Train: ₹2/km, Cab: ₹10/km) ; \n",
    "Calculate and display the total fare and estimated travel time (assuming constant speeds for each mode).\n"
   ]
  },
  {
   "cell_type": "code",
   "execution_count": null,
   "id": "7d27a4e0",
   "metadata": {},
   "outputs": [
    {
     "name": "stdout",
     "output_type": "stream",
     "text": [
      "The total fare is  : 300.0\n",
      "The time taken is  : 1.0\n"
     ]
    }
   ],
   "source": [
    "bus=40\n",
    "train=150\n",
    "cab=60\n",
    "dis= float(input(\"Enter the distance:\"))\n",
    "mode=input(\"Enter the mode of travel:\")\n",
    "if(mode.lower()==\"bus\"):\n",
    "    fare= dis*5\n",
    "    time= dis/bus\n",
    "elif(mode.lower()==\"train\"):\n",
    "    fare= dis*2\n",
    "    time = dis/train\n",
    "elif(mode.lower()==\"cab\"):\n",
    "    fare= dis*10\n",
    "    time= dis/cab\n",
    "else:\n",
    "    print(\"Please enter a valid mode of Transport\")\n",
    "print(\"The total fare is  :\",fare)\n",
    "print(\"The time taken is  :\",time)\n",
    "\n"
   ]
  },
  {
   "cell_type": "markdown",
   "id": "4a895ef4",
   "metadata": {},
   "source": [
    "1. Develop a python program for finding the absolute value of a given number. This is always measured as positive number. This number is the distance of given number from the 0(Zero). The input value may be integer, float or complex number in Python. The absolute value of given number may be integer or float."
   ]
  },
  {
   "cell_type": "code",
   "execution_count": null,
   "id": "85d337b6",
   "metadata": {},
   "outputs": [
    {
     "name": "stdout",
     "output_type": "stream",
     "text": [
      "The absolute value of -56789 is 56789\n"
     ]
    }
   ],
   "source": [
    "def find_absolute_value(num):\n",
    "    abs_value = abs(num)\n",
    "    return abs_value\n",
    "user_input = input(\"Enter a number (int, float, or complex like 3+4j): \")\n",
    "number = eval(user_input)\n",
    "result = find_absolute_value(number)\n",
    "print(f\"The absolute value of {number} is {result}\")"
   ]
  },
  {
   "cell_type": "markdown",
   "id": "843a430f",
   "metadata": {},
   "source": [
    "2. Calculate the Total selling price after levying the GST (Goods and Service Tax) as CGST and SGST on sale. CGST (Central Govt. GST), SGST (State Govt. GST) .\n",
    "        Sale amount \t\tCGST Rate \t\tSGST Rate\n",
    "         0-50000\t\t       5%\t\t\t   5%\n",
    "       Above 50000\t\t       18%\t\t\t  18%\n"
   ]
  },
  {
   "cell_type": "code",
   "execution_count": null,
   "id": "46d5a40b",
   "metadata": {},
   "outputs": [
    {
     "name": "stdout",
     "output_type": "stream",
     "text": [
      "The GST amount is  :  2000.0\n",
      "The SGST amount is :  2000.0\n",
      "The total Selling price is :  44000.0\n"
     ]
    }
   ],
   "source": [
    "sell=int(input(\"Enter the selling price:\"))\n",
    "if(sell<=50000):\n",
    "    cgst=0.05*sell\n",
    "    sgst=0.05*sell\n",
    "    print(\"The GST amount is  : \",cgst)\n",
    "    print(\"The SGST amount is : \",sgst)\n",
    "else:\n",
    "    cgst=0.18*sell\n",
    "    sgst=0.18*sell\n",
    "    print(\"The CGST amount is  : \",cgst)\n",
    "    print(\"The SGST amount is : \",sgst)\n",
    "final_bill=sell + cgst + sgst\n",
    "print(\"The total Selling price is : \",final_bill)"
   ]
  },
  {
   "cell_type": "markdown",
   "id": "22d70ac6",
   "metadata": {},
   "source": [
    "3. Write a Python program to construct the following pattern, using a nested for loop\n"
   ]
  },
  {
   "cell_type": "code",
   "execution_count": null,
   "id": "7738811f",
   "metadata": {},
   "outputs": [
    {
     "name": "stdout",
     "output_type": "stream",
     "text": [
      "*\n",
      "**\n",
      "***\n",
      "****\n",
      "*****\n",
      "****\n",
      "***\n",
      "**\n",
      "*\n"
     ]
    }
   ],
   "source": [
    "for i in range(1,6,1):\n",
    "    for j in range(1,i+1,1):\n",
    "        print(\"*\",end='')\n",
    "    print()\n",
    "for i in range(4,0,-1):\n",
    "    for j in range(1,i+1,1):\n",
    "        print(\"*\",end='')\n",
    "    print()"
   ]
  },
  {
   "cell_type": "markdown",
   "id": "72236b16",
   "metadata": {},
   "source": [
    "4. Write a Python program to guess a number between 1 and 9.\n",
    "Note: The User is prompted to enter a guess. If the user guesses wrong, then the prompt appears again until the guess is correct. On a successful guess, the user will get a \"Well guessed!\" message, and the program will exit.\n"
   ]
  },
  {
   "cell_type": "code",
   "execution_count": null,
   "id": "dcb3c969",
   "metadata": {},
   "outputs": [
    {
     "name": "stdout",
     "output_type": "stream",
     "text": [
      "Well guessed!\n"
     ]
    }
   ],
   "source": [
    "import random\n",
    "a=random.randint(1,10)\n",
    "while(True):\n",
    "    guess=int(input(\"Enter a number:\"))\n",
    "    if(guess==a):\n",
    "        print(\"Well guessed!\")\n",
    "        break"
   ]
  },
  {
   "cell_type": "markdown",
   "id": "0be31e70",
   "metadata": {},
   "source": [
    "5. You have two streaming subscriptions and want to find out how much you spend each month and how much you could save if you switch to paying annually. Each subscription has a monthly cost and offers a discounted annual rate.\n",
    "Write a Python program to calculate the total monthly cost for both subscriptions, the total annual cost if you continue paying monthly, and compare this with the yearly rates you would pay if you switch to annual payments. Finally, choose the yearly payment option to see how much you could save.\n",
    "       Test Case:\n",
    "Input:\n",
    "Service 1 = $10/month\n",
    "Service 2 = $12/month\n",
    "Annual Discount for Service 1 = $100\n",
    "Annual Discount for Service 2 = $120\n",
    "Expected Output:\n",
    "Monthly Total: $22.00\n",
    "Total Annual Cost without Discount: $264.00\n",
    "Total Annual Discounted Cost: $220.00\n",
    "Total Savings: $44.00\n"
   ]
  },
  {
   "cell_type": "code",
   "execution_count": null,
   "id": "bf563fe2",
   "metadata": {},
   "outputs": [
    {
     "name": "stdout",
     "output_type": "stream",
     "text": [
      "Monthly Total  :  22.0\n",
      "Annual cost without discount :  264.0\n",
      "Total annual discounted cost :  220.0\n",
      "Total savings :  44.0\n"
     ]
    }
   ],
   "source": [
    "s1=float(input(\"Enter the monthly cost of service 1 :\"))\n",
    "s2=float(input(\"Enter the monthly cost of service 2 :\"))\n",
    "ds1=float(input(\"Enter the annual discount for service 1 :\"))\n",
    "ds2=float(input(\"Enter the annual discount for service 2 :\"))\n",
    "year_s1=s1*12\n",
    "year_s2=s2*12\n",
    "mon_tot= s1+s2\n",
    "ann_cost= year_s1 + year_s2\n",
    "ann_dcost= ds1 + ds2\n",
    "print(\"Monthly Total  : \",mon_tot)\n",
    "print(\"Annual cost without discount : \",ann_cost)\n",
    "print(\"Total annual discounted cost : \",ann_dcost)\n",
    "print(\"Total savings : \",ann_cost - ann_dcost)"
   ]
  },
  {
   "cell_type": "markdown",
   "id": "d9181231",
   "metadata": {},
   "source": [
    "6. Write a Python program that iterates through integers from 1 to 50. For each multiple of three, print \"Fizz\" instead of the number; for each multiple of five, print \"Buzz\". For numbers that are multiples of both three and five, print \"FizzBuzz\".\n"
   ]
  },
  {
   "cell_type": "code",
   "execution_count": null,
   "id": "23dde4eb",
   "metadata": {},
   "outputs": [
    {
     "name": "stdout",
     "output_type": "stream",
     "text": [
      "1 2 Fizz 4 Buzz Fizz 7 8 Fizz Buzz 11 Fizz 13 14 FizzBuzz 16 17 Fizz 19 Buzz Fizz 22 23 Fizz Buzz 26 Fizz 28 29 FizzBuzz 31 32 Fizz 34 Buzz Fizz 37 38 Fizz Buzz 41 Fizz 43 44 FizzBuzz 46 47 Fizz 49 Buzz "
     ]
    }
   ],
   "source": [
    "for i in range(1,51,1):\n",
    "    if(i%3==0 and i%5==0):\n",
    "        print(\"FizzBuzz\",end=' ')\n",
    "    elif(i%3==0):\n",
    "        print(\"Fizz\",end=' ')\n",
    "    elif(i%5==0):\n",
    "        print(\"Buzz\",end=' ')\n",
    "    else:\n",
    "        print(i,end=' ')"
   ]
  },
  {
   "cell_type": "markdown",
   "id": "330a1051",
   "metadata": {},
   "source": [
    "7. Write a Python program that takes two digits, m (row) and n (column) as input and generates a two-dimensional array. The element value in the i-th row and j-th column of the array should be i*j.\n",
    "Note :\n",
    "i = 0,1.., m-1\n",
    "j = 0,1, n-1.\n",
    "Test Data : Rows = 3, Columns = 4\n",
    "Expected Result : [[0, 0, 0, 0], [0, 1, 2, 3], [0, 2, 4, 6]]\n"
   ]
  },
  {
   "cell_type": "code",
   "execution_count": 10,
   "id": "2a05376e",
   "metadata": {},
   "outputs": [
    {
     "name": "stdout",
     "output_type": "stream",
     "text": [
      "Generated 2D Array:\n",
      "[[0, 0, 0, 0], [0, 1, 2, 3], [0, 2, 4, 6]]\n"
     ]
    }
   ],
   "source": [
    "def generate_array(m, n):\n",
    "    result = [[i * j for j in range(n)] for i in range(m)]\n",
    "    return result\n",
    "m = int(input(\"Enter number of rows (m): \"))\n",
    "n = int(input(\"Enter number of columns (n): \"))\n",
    "array = generate_array(m, n)\n",
    "print(\"Generated 2D Array:\")\n",
    "print(array)\n"
   ]
  },
  {
   "cell_type": "markdown",
   "id": "6fc47df1",
   "metadata": {},
   "source": [
    "8. Write  a Python program for Grade Classification\n",
    "Scenario: A school system classifies grades as follows:\n",
    "A (90 and above)\n",
    "B (70 to 89)\n",
    "C (50 to 69)\n",
    "D (below 50)\n",
    "Question:  What grade will be assigned to a student who scores 85?\n",
    "If the score is 92, what grade will the program output\n"
   ]
  },
  {
   "cell_type": "code",
   "execution_count": null,
   "id": "27f17717",
   "metadata": {},
   "outputs": [
    {
     "name": "stdout",
     "output_type": "stream",
     "text": [
      "Grade:A\n"
     ]
    }
   ],
   "source": [
    "m=int(input(\"Enter the mark :\"))\n",
    "if(m>90):\n",
    "    print(\"Grade:A\")\n",
    "elif(m>70 and m<90):\n",
    "    print(\"Grade:B\")\n",
    "elif(m>50 and m<70):\n",
    "    print(\"Grade:C\")\n",
    "else:\n",
    "    print(\"Grade:D\")\n"
   ]
  },
  {
   "cell_type": "markdown",
   "id": "e6263333",
   "metadata": {},
   "source": [
    "9. Write a program that prints the multiplication table of a user-entered number up to 10.\n"
   ]
  },
  {
   "cell_type": "code",
   "execution_count": null,
   "id": "3f3f5eb9",
   "metadata": {},
   "outputs": [
    {
     "name": "stdout",
     "output_type": "stream",
     "text": [
      "1 * 5 = 5\n",
      "2 * 5 = 10\n",
      "3 * 5 = 15\n",
      "4 * 5 = 20\n",
      "5 * 5 = 25\n",
      "6 * 5 = 30\n",
      "7 * 5 = 35\n",
      "8 * 5 = 40\n",
      "9 * 5 = 45\n",
      "10 * 5 = 50\n"
     ]
    }
   ],
   "source": [
    "a=int(input(\"Enter the Multiplication table:\"))\n",
    "for i in range(1,11,1):\n",
    "    print(i,'*',a,'=',i*a)\n"
   ]
  },
  {
   "cell_type": "markdown",
   "id": "20ecd221",
   "metadata": {},
   "source": [
    "10. Write a Python program to check the validity of passwords input by users.\n",
    "Validation :\n",
    "At least 1 letter between [a-z] and 1 letter between [A-Z].\n",
    "At least 1 number between [0-9].\n",
    "At least 1 character from [$#@].\n",
    "Minimum length 6 characters.\n",
    "Maximum length 16 characters.\n"
   ]
  },
  {
   "cell_type": "code",
   "execution_count": 9,
   "id": "eae29407",
   "metadata": {},
   "outputs": [
    {
     "name": "stdout",
     "output_type": "stream",
     "text": [
      "Valid passwords: Pythom24@\n"
     ]
    }
   ],
   "source": [
    "import re\n",
    "def is_valid_password(password):\n",
    "    if len(password) < 6 or len(password) > 16:\n",
    "        return False\n",
    "    if not re.search(r\"[a-z]\", password):\n",
    "        return False\n",
    "    if not re.search(r\"[A-Z]\", password):\n",
    "        return False\n",
    "    if not re.search(r\"[0-9]\", password):\n",
    "        return False\n",
    "    if not re.search(r\"[$#@]\", password):\n",
    "        return False\n",
    "    return True\n",
    "passwords = input(\"Enter passwords separated by commas: \").split(',')\n",
    "valid_passwords = [pwd for pwd in passwords if is_valid_password(pwd.strip())]\n",
    "print(\"Valid passwords:\", ', '.join(valid_passwords))"
   ]
  },
  {
   "cell_type": "markdown",
   "id": "cb9ee86d",
   "metadata": {},
   "source": [
    "1. Movie Ticket Pricing\n",
    "You're writing a function to calculate movie ticket prices based on age.\t\n",
    "Kids under 12: $5\n",
    "Seniors (60+): $6\n",
    "Everyone else: $10\n",
    "Question:\n",
    " Write a function calculate_ticket_price(age) that returns the correct ticket price.\n",
    "Sample Input:\n",
    "calculate_ticket_price(8)      # Output: 5  \n",
    "calculate_ticket_price(30)     # Output: 10  \n",
    "calculate_ticket_price(65)     # Output: 6\n"
   ]
  },
  {
   "cell_type": "code",
   "execution_count": 1,
   "id": "6db195c9",
   "metadata": {},
   "outputs": [
    {
     "name": "stdout",
     "output_type": "stream",
     "text": [
      "Price of the movie ticket is $ 10\n"
     ]
    }
   ],
   "source": [
    "def cal_ticket_price(a):\n",
    "  if a<=12:\n",
    "    return 5\n",
    "  elif a>=60:\n",
    "    return 6\n",
    "  return 10\n",
    "a=int(input(\"Enter person's age :\"))\n",
    "print(\"Price of the movie ticket is $\",cal_ticket_price(a))"
   ]
  },
  {
   "cell_type": "markdown",
   "id": "bfd00544",
   "metadata": {},
   "source": [
    "2. You’re building a weather app and need a function to convert temperatures from Celsius to Fahrenheit\n",
    "Question:\n",
    " Write a function celsius_to_fahrenheit(celsius) that returns the Fahrenheit equivalent.\n",
    "Sample Input:\n",
    "celsius_to_fahrenheit(0)       # Output: 32.0  \n",
    "celsius_to_fahrenheit(37)      # Output: 98.6\n"
   ]
  },
  {
   "cell_type": "code",
   "execution_count": 2,
   "id": "25192919",
   "metadata": {},
   "outputs": [
    {
     "name": "stdout",
     "output_type": "stream",
     "text": [
      "In fahrenheit : 95.0\n"
     ]
    }
   ],
   "source": [
    "def celsius_to_fahrenheit(c):\n",
    "  return c*(9/5)+32\n",
    "c=float(input(\"Enter the celsius :\"))\n",
    "print(\"In fahrenheit : %.1f\"%celsius_to_fahrenheit(c))"
   ]
  },
  {
   "cell_type": "markdown",
   "id": "877cc460",
   "metadata": {},
   "source": [
    "3. You're creating a grading system. Given a score (0–100), return a letter grade:\t\n",
    "A: 90+\t\n",
    "B: 80–89\t\n",
    "C: 70–79\n",
    "D: 60–69\n",
    "F: below 60\n",
    "Question:\n",
    " Write a function get_grade(score) that returns the letter grade.\n",
    "Sample Input:\n",
    "get_grade(85)        # Output: \"B\"  \n",
    "get_grade(59)        # Output: \"F\n"
   ]
  },
  {
   "cell_type": "code",
   "execution_count": 3,
   "id": "7a3dda98",
   "metadata": {},
   "outputs": [
    {
     "name": "stdout",
     "output_type": "stream",
     "text": [
      "Grade of the student is F\n"
     ]
    }
   ],
   "source": [
    "def get_grade(score):\n",
    "  if score >= 90 :\n",
    "    return \"A\"\n",
    "  elif score >= 80 :\n",
    "    return \"B\"\n",
    "  elif score >= 70 :\n",
    "    return \"C\"\n",
    "  elif score >= 60 :\n",
    "    return \"D\"\n",
    "  return \"F\"\n",
    "score=int(input(\"Enter the score of the student :\"))\n",
    "print(\"Grade of the student is\",get_grade(score))"
   ]
  },
  {
   "cell_type": "markdown",
   "id": "27b02436",
   "metadata": {},
   "source": [
    "4. In a text editing app, users want a function that takes a sentence and reverses each word, keeping the word order the same.\n",
    "Question:\n",
    "\t Write a function reverse_words(sentence) that reverses the characters of each word.\n",
    "Sample Input:\n",
    "reverse_words(\"hello world\")    # Output: \"olleh dlrow\"  \n",
    "reverse_words(\"python is fun\")  # Output: \"nohtyp si nuf\"\n"
   ]
  },
  {
   "cell_type": "code",
   "execution_count": 4,
   "id": "16d86b93",
   "metadata": {},
   "outputs": [
    {
     "name": "stdout",
     "output_type": "stream",
     "text": [
      "Reversed sentence is :  nohtyp si nuf\n"
     ]
    }
   ],
   "source": [
    "def reverse_words(word):\n",
    "  rev=[]\n",
    "  for i in word.split():\n",
    "    rev.append(i[::-1])\n",
    "  return \" \".join(rev)\n",
    "word=input(\"Enter the sentence :\")\n",
    "print(\"Reversed sentence is : \",reverse_words(word))"
   ]
  },
  {
   "cell_type": "markdown",
   "id": "1cfb8e44",
   "metadata": {},
   "source": [
    "5. Shipping Cost Calculator :A  company charges shipping based on weight:\n",
    "Up to 2kg: $5\n",
    "2–5kg: $10\n",
    "5kg and above: $15\n",
    "Question:\n",
    "Write a function calculate_shipping(weight) that returns the shipping cost.\n",
    "Sample Input:\n",
    "calculate_shipping(1.5)     # Output: 5  \n",
    "calculate_shipping(3.2)     # Output: 10  \n",
    "calculate_shipping(7.0)     # Output: 15\n"
   ]
  },
  {
   "cell_type": "code",
   "execution_count": 5,
   "id": "408dba45",
   "metadata": {},
   "outputs": [
    {
     "name": "stdout",
     "output_type": "stream",
     "text": [
      "Shipping charge is $ 15\n"
     ]
    }
   ],
   "source": [
    "def cal_shipping(weight):\n",
    "  if weight <= 2 :\n",
    "    return 5\n",
    "  elif weight <=5 :\n",
    "    return 10\n",
    "  return 15\n",
    "weight=float(input(\"Enter the weight(in kilogram):\"))\n",
    "print(\"Shipping charge is $\",cal_shipping(weight))"
   ]
  },
  {
   "cell_type": "markdown",
   "id": "9707d665",
   "metadata": {},
   "source": [
    "6. Password Strength Checker\n",
    "Scenario: You're building a signup form. The password must be at least 8 characters long and contain at least one uppercase letter, one lowercase letter, and one digit.\n",
    "Question:\n",
    "Write a function is_strong_password(password) that returns True if the password is strong, otherwise False.\n",
    "Sample Input:\n",
    "is_strong_password(\"Password123\")     # Output: True\n"
   ]
  },
  {
   "cell_type": "code",
   "execution_count": 6,
   "id": "122d9fa2",
   "metadata": {},
   "outputs": [
    {
     "data": {
      "text/plain": [
       "False"
      ]
     },
     "execution_count": 6,
     "metadata": {},
     "output_type": "execute_result"
    }
   ],
   "source": [
    "def is_strong_password(password):\n",
    "  lst=[False,False,False,False]\n",
    "  lst[0]=True if len(password)>=8 else False\n",
    "  for i in password:\n",
    "    if i.isupper():\n",
    "      lst[1]=True\n",
    "    if i.islower():\n",
    "      lst[2]=True\n",
    "    if i.isdigit():\n",
    "      lst[3]=True\n",
    "  return all(lst)\n",
    "password=input(\"Enter your passowrd :\")\n",
    "is_strong_password(password)"
   ]
  }
 ],
 "metadata": {
  "kernelspec": {
   "display_name": "Python 3",
   "language": "python",
   "name": "python3"
  },
  "language_info": {
   "codemirror_mode": {
    "name": "ipython",
    "version": 3
   },
   "file_extension": ".py",
   "mimetype": "text/x-python",
   "name": "python",
   "nbconvert_exporter": "python",
   "pygments_lexer": "ipython3",
   "version": "3.11.3"
  }
 },
 "nbformat": 4,
 "nbformat_minor": 5
}
