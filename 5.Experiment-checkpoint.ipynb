{
 "cells": [
  {
   "cell_type": "markdown",
   "metadata": {},
   "source": [
    "1.Username Validator  You're developing a login system. A username must only contain alphabets and numbers, and should not exceed 12 characters.\n",
    "Write a function that checks whether a given username is valid or not. Return True if it's valid, otherwise False"
   ]
  },
  {
   "cell_type": "code",
   "execution_count": 7,
   "metadata": {},
   "outputs": [
    {
     "name": "stdin",
     "output_type": "stream",
     "text": [
      "Enter the username : exampleusr23\n"
     ]
    },
    {
     "name": "stdout",
     "output_type": "stream",
     "text": [
      "True\n"
     ]
    }
   ],
   "source": [
    "def is_valid(usrname):\n",
    "    if len(usrname)>12:\n",
    "        return False\n",
    "    for i in usrname:\n",
    "        if i.isalnum() and i!=\" \":\n",
    "            continue\n",
    "        else:\n",
    "            return False\n",
    "    return True\n",
    "usrname=input(\"Enter the username :\")\n",
    "print(is_valid(usrname))"
   ]
  },
  {
   "cell_type": "markdown",
   "metadata": {},
   "source": [
    "2.Email Masking for Privacy . You need to mask part of an email address when displaying it publicly to protect user privacy.\n",
    "Write a program that takes an email like john.doe@example.com and returns a masked version like jo****@example.com.\n"
   ]
  },
  {
   "cell_type": "code",
   "execution_count": 8,
   "metadata": {},
   "outputs": [
    {
     "name": "stdin",
     "output_type": "stream",
     "text": [
      "Enter your email'id : example@gmail.com\n"
     ]
    },
    {
     "name": "stdout",
     "output_type": "stream",
     "text": [
      "ex*****@gmail.com\n"
     ]
    }
   ],
   "source": [
    "def mask(email):\n",
    "    if len(email[:email.index('@')])<=3:\n",
    "        return email[0]+'*'*len(email[1:email.index('@')])+email[email.index('@'):]\n",
    "    l=len(email[2:email.index('@')])\n",
    "    masked=email[:2]+(\"*\"*l)+email[email.index('@'):]\n",
    "    return masked\n",
    "email=input(\"Enter your email'id :\")\n",
    "print(mask(email))  \n"
   ]
  },
  {
   "cell_type": "markdown",
   "metadata": {},
   "source": [
    "3.Detecting Palindromes  You are building a text analyzer app. One of the features is to detect if a word or phrase is a palindrome (ignoring spaces and punctuation).\n",
    "Write a function that checks whether a given string is a palindrome, ignoring case, spaces, and punctuation.\n"
   ]
  },
  {
   "cell_type": "code",
   "execution_count": 4,
   "metadata": {},
   "outputs": [
    {
     "name": "stdin",
     "output_type": "stream",
     "text": [
      "Enter a sentence : A man, a plan, a canal, Panama\n"
     ]
    },
    {
     "name": "stdout",
     "output_type": "stream",
     "text": [
      "True\n"
     ]
    }
   ],
   "source": [
    "def is_palindrome(str):\n",
    "    clean=''\n",
    "    rev=''\n",
    "    for i in str:\n",
    "        if i.isalnum():\n",
    "            clean+=i.lower()\n",
    "    rev=clean[::-1]\n",
    "    return rev==clean\n",
    "str=input(\"Enter a sentence :\")\n",
    "print(is_palindrome(str))"
   ]
  },
  {
   "cell_type": "markdown",
   "metadata": {},
   "source": [
    "4.Text Formatter for News Headlines - You’re building a news app that receives article titles in random casing. You need to format the titles so each word starts with a capital letter.\n",
    "Write a function that converts a given string like \"breaKing news: python is fun\" to \"Breaking News: Python Is Fun\".\n"
   ]
  },
  {
   "cell_type": "code",
   "execution_count": 5,
   "metadata": {},
   "outputs": [
    {
     "name": "stdin",
     "output_type": "stream",
     "text": [
      "Enter NEWS title : PythOn iS fuN\n"
     ]
    },
    {
     "name": "stdout",
     "output_type": "stream",
     "text": [
      "Python Is Fun\n"
     ]
    }
   ],
   "source": [
    "def make_title(news):\n",
    "    return news.lower().title()\n",
    "news=input(\"Enter NEWS title :\")\n",
    "print(make_title(news))"
   ]
  },
  {
   "cell_type": "markdown",
   "metadata": {},
   "source": [
    "5.Word Frequency Counter  In a blog analysis tool, you need to find out how often each word appears in a paragraph."
   ]
  },
  {
   "cell_type": "code",
   "execution_count": 12,
   "metadata": {},
   "outputs": [
    {
     "name": "stdin",
     "output_type": "stream",
     "text": [
      "Enter the paragraph or string: we can count anything in this paragraph\n",
      "\n",
      "Enter a word to analysis: in\n"
     ]
    },
    {
     "name": "stdout",
     "output_type": "stream",
     "text": [
      "\n",
      "The words repeated is 2 times\n"
     ]
    }
   ],
   "source": [
    "def tool1(u):\n",
    "  str1=input(\"\\nEnter a word to analysis:\")\n",
    "  str1=str1.lower()\n",
    "  n=u.count(str1)\n",
    "  return n\n",
    "u=input(\"Enter the paragraph or string:\")\n",
    "u=u.lower()\n",
    "print(\"\\nThe words repeated is\",tool1(u),\"times\")"
   ]
  },
  {
   "cell_type": "markdown",
   "metadata": {},
   "source": [
    "6.Write a program that takes a block of text and prints"
   ]
  },
  {
   "cell_type": "code",
   "execution_count": 11,
   "metadata": {},
   "outputs": [
    {
     "name": "stdin",
     "output_type": "stream",
     "text": [
      "Enter the block of text: summa\n"
     ]
    },
    {
     "name": "stdout",
     "output_type": "stream",
     "text": [
      "summa\n"
     ]
    }
   ],
   "source": [
    "def block(t):\n",
    "  print(t)\n",
    "t=input(\"Enter the block of text:\")\n",
    "block(t)"
   ]
  },
  {
   "cell_type": "markdown",
   "metadata": {},
   "source": []
  }
 ],
 "metadata": {
  "kernelspec": {
   "display_name": "Python 3 (ipykernel)",
   "language": "python",
   "name": "python3"
  },
  "language_info": {
   "codemirror_mode": {
    "name": "ipython",
    "version": 3
   },
   "file_extension": ".py",
   "mimetype": "text/x-python",
   "name": "python",
   "nbconvert_exporter": "python",
   "pygments_lexer": "ipython3",
   "version": "3.9.12"
  }
 },
 "nbformat": 4,
 "nbformat_minor": 4
}
