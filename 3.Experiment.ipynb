{
 "cells": [
  {
   "cell_type": "markdown",
   "id": "e069a2d5",
   "metadata": {},
   "source": [
    "## 1.Movie Ticket Pricing\n",
    "##### You're writing a function to calculate movie ticket prices based on age.\t\n",
    "##### Kids under 12: $5 ,Senior(60+) :$6 , Everyone else: $10\n",
    "##### Question:\n",
    "##### Write a function calculate_ticket_price(age) that returns the correct ticket price.\n",
    "##### Sample Input:\n",
    "##### calculate_ticket_price(8)      # Output: 5  \n",
    "##### calculate_ticket_price(30)     # Output: 10  \n",
    "##### calculate_ticket_price(65)     # Output: 6\n"
   ]
  },
  {
   "cell_type": "code",
   "execution_count": 1,
   "id": "7352f36f",
   "metadata": {},
   "outputs": [
    {
     "name": "stdin",
     "output_type": "stream",
     "text": [
      "Enter person's age : 27\n"
     ]
    },
    {
     "name": "stdout",
     "output_type": "stream",
     "text": [
      "Price of the movie ticket is $ 10\n"
     ]
    }
   ],
   "source": [
    "def cal_ticket_price(a):\n",
    "  if a<=12:\n",
    "    return 5\n",
    "  elif a>=60:\n",
    "    return 6\n",
    "  return 10\n",
    "a=int(input(\"Enter person's age :\"))\n",
    "print(\"Price of the movie ticket is $\",cal_ticket_price(a))"
   ]
  },
  {
   "cell_type": "markdown",
   "id": "4414b36e",
   "metadata": {},
   "source": [
    "##  2.You’re building a weather app and need a function to convert temperatures from Celsius to Fahrenheit\n",
    "#### Question:\n",
    "#### Write a function celsius_to_fahrenheit(celsius) that returns the Fahrenheit equivalent.\n",
    "#### Sample Input:\n",
    "#### celsius_to_fahrenheit(0)       # Output: 32.0  \n",
    "#### celsius_to_fahrenheit(37)      # Output: 98.6\n"
   ]
  },
  {
   "cell_type": "code",
   "execution_count": 2,
   "id": "e0fb3ae8",
   "metadata": {},
   "outputs": [
    {
     "name": "stdin",
     "output_type": "stream",
     "text": [
      "Enter the celsius : 37\n"
     ]
    },
    {
     "name": "stdout",
     "output_type": "stream",
     "text": [
      "In fahrenheit : 98.6\n"
     ]
    }
   ],
   "source": [
    "def celsius_to_fahrenheit(c):\n",
    "  return c*(9/5)+32\n",
    "c=float(input(\"Enter the celsius :\"))\n",
    "print(\"In fahrenheit : %.1f\"%celsius_to_fahrenheit(c))"
   ]
  },
  {
   "cell_type": "markdown",
   "id": "76b3fcec",
   "metadata": {},
   "source": [
    "## 3.You're creating a grading system. Given a score (0–100), return a letter grade:\t\n",
    "#### A: 90+\t\n",
    "#### B: 80–89\t\n",
    "#### C: 70–79\n",
    "#### D: 60–69\n",
    "#### F: below 60\n",
    "#### Question:\n",
    "#### Write a function get_grade(score) that returns the letter grade.\n",
    "#### Sample Input:\n",
    "#### get_grade(85)        # Output: \"B\"  \n",
    "#### get_grade(59)        # Output: \"F\n"
   ]
  },
  {
   "cell_type": "code",
   "execution_count": 3,
   "id": "6ca2cf97",
   "metadata": {},
   "outputs": [
    {
     "name": "stdin",
     "output_type": "stream",
     "text": [
      "Enter the score of the student : 93\n"
     ]
    },
    {
     "name": "stdout",
     "output_type": "stream",
     "text": [
      "Grade of the student is A\n"
     ]
    }
   ],
   "source": [
    "def get_grade(score):\n",
    "  if score >= 90 :\n",
    "    return \"A\"\n",
    "  elif score >= 80 :\n",
    "    return \"B\"\n",
    "  elif score >= 70 :\n",
    "    return \"C\"\n",
    "  elif score >= 60 :\n",
    "    return \"D\"\n",
    "  return \"F\"\n",
    "score=int(input(\"Enter the score of the student :\"))\n",
    "print(\"Grade of the student is\",get_grade(score))"
   ]
  },
  {
   "cell_type": "markdown",
   "id": "659f3864",
   "metadata": {},
   "source": [
    "## 4.In a text editing app, users want a function that takes a sentence and reverses each word, keeping the word order the same.\n",
    "#### Question:\n",
    "####\t Write a function reverse_words(sentence) that reverses the characters of each word.\n",
    "#### Sample Input:\n",
    "#### reverse_words(\"hello world\")    # Output: \"olleh dlrow\"  \n",
    "#### reverse_words(\"python is fun\")  # Output: \"nohtyp si nuf\"\n"
   ]
  },
  {
   "cell_type": "code",
   "execution_count": 4,
   "id": "ddbdf4de",
   "metadata": {},
   "outputs": [
    {
     "name": "stdin",
     "output_type": "stream",
     "text": [
      "Enter the sentence : python is fun\n"
     ]
    },
    {
     "name": "stdout",
     "output_type": "stream",
     "text": [
      "Reversed sentence is :  nohtyp si nuf\n"
     ]
    }
   ],
   "source": [
    "def reverse_words(word):\n",
    "  rev=[]\n",
    "  for i in word.split():\n",
    "    rev.append(i[::-1])\n",
    "  return \" \".join(rev)\n",
    "word=input(\"Enter the sentence :\")\n",
    "print(\"Reversed sentence is : \",reverse_words(word))"
   ]
  },
  {
   "cell_type": "markdown",
   "id": "ba72f93c",
   "metadata": {},
   "source": [
    "## 5.Shipping Cost Calculator :A  company charges shipping based on weight:\n",
    "#### Up to 2kg: $5   ; under 2–5kg: $10\n",
    "#### 5kg and above: $15\n",
    "#### Question:\n",
    "#### Write a function calculate_shipping(weight) that returns the shipping cost.\n",
    "#### Sample Input:\n",
    "#### calculate_shipping(1.5)     # Output: 5  \n",
    "#### calculate_shipping(3.2)     # Output: 10  \n",
    "#### calculate_shipping(7.0)     # Output: 15\n"
   ]
  },
  {
   "cell_type": "code",
   "execution_count": 5,
   "id": "89358fb4",
   "metadata": {},
   "outputs": [
    {
     "name": "stdin",
     "output_type": "stream",
     "text": [
      "Enter the weight(in kilogram): 4\n"
     ]
    },
    {
     "name": "stdout",
     "output_type": "stream",
     "text": [
      "Shipping charge is $ 10\n"
     ]
    }
   ],
   "source": [
    "def cal_shipping(weight):\n",
    "  if weight <= 2 :\n",
    "    return 5\n",
    "  elif weight <=5 :\n",
    "    return 10\n",
    "  return 15\n",
    "weight=float(input(\"Enter the weight(in kilogram):\"))\n",
    "print(\"Shipping charge is $\",cal_shipping(weight))\n"
   ]
  },
  {
   "cell_type": "markdown",
   "id": "04c9b9d6",
   "metadata": {},
   "source": [
    "## 6.Password Strength Checker\n",
    "#### Scenario: You're building a signup form. The password must be at least 8 characters long and contain at least one uppercase letter, one lowercase letter, and one digit.\n",
    "#### Question:\n",
    "#### Write a function is_strong_password(password) that returns True if the password is strong, otherwise False.\n",
    "#### Sample Input:\n",
    "#### is_strong_password(\"Password123\")     # Output: True\n"
   ]
  },
  {
   "cell_type": "code",
   "execution_count": 6,
   "id": "46860a9a",
   "metadata": {},
   "outputs": [
    {
     "name": "stdin",
     "output_type": "stream",
     "text": [
      "Enter your passowrd : Password123\n"
     ]
    },
    {
     "data": {
      "text/plain": [
       "True"
      ]
     },
     "execution_count": 6,
     "metadata": {},
     "output_type": "execute_result"
    }
   ],
   "source": [
    "def is_strong_password(password):\n",
    "  lst=[False,False,False,False]\n",
    "  lst[0]=True if len(password)>=8 else False\n",
    "  for i in password:\n",
    "    if i.isupper():\n",
    "      lst[1]=True\n",
    "    if i.islower():\n",
    "      lst[2]=True\n",
    "    if i.isdigit():\n",
    "      lst[3]=True\n",
    "  return all(lst)\n",
    "password=input(\"Enter your passowrd :\")\n",
    "is_strong_password(password)"
   ]
  },
  {
   "cell_type": "code",
   "execution_count": null,
   "id": "8eaea988",
   "metadata": {},
   "outputs": [],
   "source": []
  }
 ],
 "metadata": {
  "kernelspec": {
   "display_name": "Python 3 (ipykernel)",
   "language": "python",
   "name": "python3"
  },
  "language_info": {
   "codemirror_mode": {
    "name": "ipython",
    "version": 3
   },
   "file_extension": ".py",
   "mimetype": "text/x-python",
   "name": "python",
   "nbconvert_exporter": "python",
   "pygments_lexer": "ipython3",
   "version": "3.13.2"
  }
 },
 "nbformat": 4,
 "nbformat_minor": 5
}
