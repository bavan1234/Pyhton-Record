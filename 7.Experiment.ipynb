{
 "cells": [
  {
   "cell_type": "markdown",
   "id": "baefdb5a",
   "metadata": {},
   "source": [
    "1.Write a program to create a set and perform the following operations: Add an element, remove an element, check for membership, and clear the set.\n"
   ]
  },
  {
   "cell_type": "code",
   "execution_count": 19,
   "id": "6d703eba",
   "metadata": {},
   "outputs": [
    {
     "name": "stdout",
     "output_type": "stream",
     "text": [
      "creating a set: set()\n",
      "Adding elements: {2, 3, 5}\n",
      "Removing an element: {3, 5}\n",
      "Check for membership : False\n",
      "After clearing the set: set()\n"
     ]
    }
   ],
   "source": [
    "s=set()\n",
    "print(\"creating a set:\",s)\n",
    "s.add(5)\n",
    "s.add(3)\n",
    "s.add(2)\n",
    "print('Adding elements:',s)\n",
    "s.remove(2)\n",
    "print(\"Removing an element:\",s)\n",
    "print(\"Check for membership :\",2 in s)\n",
    "s.clear()\n",
    "print(\"After clearing the set:\",s)"
   ]
  },
  {
   "cell_type": "markdown",
   "id": "fd452034",
   "metadata": {},
   "source": [
    "2.Write a program to take two sets of integers and perform the following operations: Union, intersection, difference, and symmetric difference.\n"
   ]
  },
  {
   "cell_type": "code",
   "execution_count": 9,
   "id": "65b94857",
   "metadata": {},
   "outputs": [
    {
     "name": "stdout",
     "output_type": "stream",
     "text": [
      "Set_A: {1, 2, 3, 4, 5}\n",
      "Set_B: {2, 5, 6, 7, 8}\n",
      "Union: {1, 2, 3, 4, 5, 6, 7, 8}\n",
      "Intersection: {2, 5}\n",
      "Difference: {1, 3, 4}\n",
      "Symmetric difference: {1, 3, 4, 6, 7, 8}\n"
     ]
    }
   ],
   "source": [
    "s1={int(input(\"Enter first set element:\")) for _ in range(int(input(\"Enter the number of elements:\")))}\n",
    "s2={int(input(\"Enter second set element:\")) for _ in range(int(input(\"Enter the number of elements:\")))}\n",
    "print(\"Set_A:\",s1)\n",
    "print(\"Set_B:\",s2)\n",
    "print(\"Union:\",s1 | s2)\n",
    "print(\"Intersection:\",s1 & s2)\n",
    "print(\"Difference:\",s1 - s2)\n",
    "print(\"Symmetric difference:\",s1 ^ s2)"
   ]
  },
  {
   "cell_type": "markdown",
   "id": "bf3d0372",
   "metadata": {},
   "source": [
    "3.Write a program to count the number of unique words in a given sentence using a set.\n"
   ]
  },
  {
   "cell_type": "code",
   "execution_count": null,
   "id": "22a02daa",
   "metadata": {},
   "outputs": [
    {
     "name": "stdout",
     "output_type": "stream",
     "text": [
      "No of uniuqe words are 2\n"
     ]
    }
   ],
   "source": [
    "print(\"No of uniuqe words are\",len(set(input(\"Enter the sentence:\").split())))"
   ]
  },
  {
   "cell_type": "markdown",
   "id": "e45a47c7",
   "metadata": {},
   "source": [
    "4.Write a program to create a set of even numbers from 1 to 20 using set comprehension.\n"
   ]
  },
  {
   "cell_type": "code",
   "execution_count": 14,
   "id": "a0dfbf7d",
   "metadata": {},
   "outputs": [
    {
     "name": "stdout",
     "output_type": "stream",
     "text": [
      "Even set: {2, 4, 6, 8, 10, 12, 14, 16, 18}\n"
     ]
    }
   ],
   "source": [
    "even_set={i for i in range(1,20) if i%2==0}\n",
    "print(\"Even set:\",even_set)"
   ]
  },
  {
   "cell_type": "markdown",
   "id": "b70cf030",
   "metadata": {},
   "source": [
    "5.Write a program to create a dictionary with names and ages of 5 people and print the dictionary.\n"
   ]
  },
  {
   "cell_type": "code",
   "execution_count": 21,
   "id": "63103e13",
   "metadata": {},
   "outputs": [
    {
     "name": "stdout",
     "output_type": "stream",
     "text": [
      "Dictionary : {'hari': 23, 'pradeep': 22, 'arun': 24, 'ravi': 20, 'ram': 21}\n"
     ]
    }
   ],
   "source": [
    "dict={}\n",
    "for _ in range(int(input(\"Enter no of people:\"))):\n",
    "  dict[input(\"Enter the name:\")]=int(input(\"Enter the age:\"))\n",
    "print(\"Dictionary :\",dict)"
   ]
  },
  {
   "cell_type": "markdown",
   "id": "edebf3ea",
   "metadata": {},
   "source": [
    "6.Write a program to search for a key in a dictionary and print its value if found.\n"
   ]
  },
  {
   "cell_type": "code",
   "execution_count": null,
   "id": "d46a4bcf",
   "metadata": {},
   "outputs": [
    {
     "name": "stdout",
     "output_type": "stream",
     "text": [
      "Value: 3\n"
     ]
    }
   ],
   "source": [
    "dict={}\n",
    "for _ in range(int(input(\"Enter no of key:\"))):\n",
    "  key=input(\"Enter key:\")\n",
    "  value=input(\"Enter value:\")\n",
    "  dict[key]=value\n",
    "target=input(\"Enter key to search:\")\n",
    "if target in dict:\n",
    "  print(\"Value:\",dict[target])\n",
    "else:\n",
    "  print(\"Key not found\")"
   ]
  },
  {
   "cell_type": "markdown",
   "id": "fff8c0fe",
   "metadata": {},
   "source": [
    "7.Write a program to update a value in a dictionary and remove a key-value pair.\n"
   ]
  },
  {
   "cell_type": "code",
   "execution_count": 27,
   "id": "8d93881b",
   "metadata": {},
   "outputs": [
    {
     "name": "stdout",
     "output_type": "stream",
     "text": [
      "Before modifying the dictionary: {'`': 'hari', '2': 'pradeep'}\n",
      "After updating the dictionary: {'`': 'hari', '2': 'pradeep', '1': 'ram'}\n",
      "After deleting a value: {'`': 'hari', '1': 'ram'}\n"
     ]
    }
   ],
   "source": [
    "dict={}\n",
    "for _ in range(int(input(\"Enter no of element:\"))):\n",
    "  key=input(\"Enter key:\")\n",
    "  value=input(\"Enter value:\")\n",
    "  dict[key]=value\n",
    "print(\"Before modifying the dictionary:\",dict)\n",
    "target=input(\"Enter key to update the value:\")\n",
    "dict[target]=input(\"Enter new value:\")\n",
    "print(\"After updating the dictionary:\",dict)\n",
    "target=input(\"Enter key to delete the value:\")\n",
    "del dict[target]\n",
    "print(\"After deleting a value:\",dict)"
   ]
  },
  {
   "cell_type": "markdown",
   "id": "85a601d4",
   "metadata": {},
   "source": [
    "8.Write a program to count the frequency of characters in a user-given string using a dictionary.\n"
   ]
  },
  {
   "cell_type": "code",
   "execution_count": 5,
   "id": "727cd6be",
   "metadata": {},
   "outputs": [
    {
     "name": "stdout",
     "output_type": "stream",
     "text": [
      "Frequency: {'h': 1, 'l': 3, 's': 1, 'o': 2, 'w': 1, 'e': 2}\n"
     ]
    }
   ],
   "source": [
    "string=input(\"Enter a sentence:\")\n",
    "dict={}\n",
    "lst=[i for i in string if i!=' ']\n",
    "without_duplicate=set(lst)\n",
    "for key in without_duplicate:\n",
    "  dict[key]=lst.count(key)\n",
    "print(\"Frequency:\",dict)"
   ]
  },
  {
   "cell_type": "markdown",
   "id": "1219fc41",
   "metadata": {},
   "source": [
    "9.Write a program to merge two dictionaries into one.\n"
   ]
  },
  {
   "cell_type": "code",
   "execution_count": 31,
   "id": "b99b6415",
   "metadata": {},
   "outputs": [
    {
     "name": "stdout",
     "output_type": "stream",
     "text": [
      "Dictionaries Before merging:\n",
      "{'adharsh': 14, 'hari': 15, 'ram': 12}\n",
      "{'deva': 13, 'vikram': 14, 'rohit': 12}\n",
      "After merging:\n",
      "{'adharsh': 14, 'hari': 15, 'ram': 12, 'deva': 13, 'vikram': 14, 'rohit': 12}\n"
     ]
    }
   ],
   "source": [
    "dict1={\"adharsh\":14,\"hari\":15,\"ram\":12}\n",
    "dict2={\"deva\":13,\"vikram\":14,\"rohit\":12}\n",
    "print(\"Dictionaries Before merging:\")\n",
    "print(dict1)\n",
    "print(dict2)\n",
    "for k in dict2.items():\n",
    "  dict1[k[0]]=k[1]\n",
    "print(\"After merging:\")\n",
    "print(dict1)"
   ]
  },
  {
   "cell_type": "code",
   "execution_count": 32,
   "id": "1b4a9aef",
   "metadata": {},
   "outputs": [
    {
     "name": "stdout",
     "output_type": "stream",
     "text": [
      "Dictionaries Before merging:\n",
      "{'adharsh': 14, 'hari': 15, 'ram': 12}\n",
      "{'deva': 13, 'vikram': 14, 'rohit': 12}\n",
      "After merging:\n",
      "{'adharsh': 14, 'hari': 15, 'ram': 12, 'deva': 13, 'vikram': 14, 'rohit': 12}\n"
     ]
    }
   ],
   "source": [
    "dict1={\"adharsh\":14,\"hari\":15,\"ram\":12}\n",
    "dict2={\"deva\":13,\"vikram\":14,\"rohit\":12}\n",
    "print(\"Dictionaries Before merging:\")\n",
    "print(dict1)\n",
    "print(dict2)\n",
    "dict1.update(dict2)\n",
    "print(\"After merging:\")\n",
    "print(dict1)"
   ]
  },
  {
   "cell_type": "markdown",
   "id": "ccf57219",
   "metadata": {},
   "source": [
    "10.Write a program to create a dictionary with student names and marks, and print names of students who scored more than 80.\n"
   ]
  },
  {
   "cell_type": "code",
   "execution_count": 35,
   "id": "082aaf68",
   "metadata": {},
   "outputs": [
    {
     "name": "stdout",
     "output_type": "stream",
     "text": [
      "Dictionary: {'hari': 89, 'deva': 90, 'ram': 75}\n",
      "Students who scored more than 80:\n",
      "hari,deva\n"
     ]
    }
   ],
   "source": [
    "dict={}\n",
    "for _ in range(int(input(\"Enter no of students:\"))):\n",
    "  name=input(\"Enter student's name:\")\n",
    "  mark=int(input(\"Enter student's mark:\"))\n",
    "  dict[name]=mark\n",
    "print(\"Dictionary:\",dict)\n",
    "top_stud=[]\n",
    "for i in dict.items():\n",
    "  if i[1]>80:\n",
    "    top_stud.append(i[0])\n",
    "print(\"Students who scored more than 80:\")\n",
    "print(*top_stud,sep=\",\")"
   ]
  }
 ],
 "metadata": {
  "kernelspec": {
   "display_name": "Python 3",
   "language": "python",
   "name": "python3"
  },
  "language_info": {
   "codemirror_mode": {
    "name": "ipython",
    "version": 3
   },
   "file_extension": ".py",
   "mimetype": "text/x-python",
   "name": "python",
   "nbconvert_exporter": "python",
   "pygments_lexer": "ipython3",
   "version": "3.11.0"
  }
 },
 "nbformat": 4,
 "nbformat_minor": 5
}
